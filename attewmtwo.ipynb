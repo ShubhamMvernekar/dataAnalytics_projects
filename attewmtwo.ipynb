{
 "cells": [
  {
   "cell_type": "code",
   "execution_count": null,
   "id": "fa02b74f-eb71-49e8-bc99-084e4c4ecc83",
   "metadata": {},
   "outputs": [],
   "source": [
    "import pandas as pd\n",
    "import seaborn as sns\n",
    "import mysql.connector\n",
    "import matplotlib.pyplot as plt\n",
    "\n",
    "\n",
    "# Connect to the MySQL database\n",
    "db = mysql.connector.connect(\n",
    "    host='localhost',\n",
    "    user='root',\n",
    "    password='shubhamdb2002',\n",
    "    database='eccomerce'\n",
    ")\n",
    "cursor = db.cursor()\n",
    "\n",
    "# query"
   ]
  },
  {
   "cell_type": "markdown",
   "id": "882c25d6-9a04-4905-81e0-dcbcb9bf70ee",
   "metadata": {},
   "source": [
    " # list all unique cities where customers are located"
   ]
  },
  {
   "cell_type": "code",
   "execution_count": null,
   "id": "2254344f-62da-4b89-bb42-b772deaf3558",
   "metadata": {},
   "outputs": [],
   "source": [
    "query= \"\"\" select distinct customer_city from customers\"\"\"\n",
    "\n",
    "cursor.execute(query)\n",
    "data=cursor.fetchall()\n",
    "data"
   ]
  },
  {
   "cell_type": "markdown",
   "id": "d3517b8d-84b1-4cf0-905c-9e25dc33182d",
   "metadata": {},
   "source": [
    "#   count the number of orders placed in 2017"
   ]
  },
  {
   "cell_type": "code",
   "execution_count": null,
   "id": "3608c5a8-63b3-4d5d-b05a-9a8b5ff78130",
   "metadata": {},
   "outputs": [],
   "source": [
    "query= \"\"\" select count(order_id) as total_orders from orders where year(order_purchase_timestamp)=2017\"\"\"\n",
    "\n",
    "cursor.execute(query)\n",
    "data=cursor.fetchall()\n",
    "\"total orders placed in 2017 are:\",data[0][0]"
   ]
  },
  {
   "cell_type": "markdown",
   "id": "14c95058-3917-4d6e-8f62-b60500801873",
   "metadata": {},
   "source": [
    "# find total sales per category"
   ]
  },
  {
   "cell_type": "code",
   "execution_count": null,
   "id": "85556624-df20-49a8-83e7-7d6956f94e34",
   "metadata": {},
   "outputs": [],
   "source": [
    "query= \"\"\" select products.productcategory, round(sum( payments.payment_value),2) from payments \n",
    "           join order_items  on payments.order_id=order_items.order_id\n",
    "           join products on products.product_id=order_items.product_id\n",
    "           group by products.productcategory \"\"\"\n",
    "cursor.execute(query)\n",
    "data=cursor.fetchall()\n",
    "df= pd.DataFrame(data)\n",
    "df"
   ]
  },
  {
   "cell_type": "code",
   "execution_count": null,
   "id": "47b73eaa-a415-4328-8193-9c9e8283e997",
   "metadata": {},
   "outputs": [],
   "source": []
  }
 ],
 "metadata": {
  "kernelspec": {
   "display_name": "Python 3 (ipykernel)",
   "language": "python",
   "name": "python3"
  },
  "language_info": {
   "codemirror_mode": {
    "name": "ipython",
    "version": 3
   },
   "file_extension": ".py",
   "mimetype": "text/x-python",
   "name": "python",
   "nbconvert_exporter": "python",
   "pygments_lexer": "ipython3",
   "version": "3.13.0"
  }
 },
 "nbformat": 4,
 "nbformat_minor": 5
}
