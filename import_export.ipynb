{
 "cells": [
  {
   "cell_type": "markdown",
   "id": "c7278970-73c4-4d84-857c-92fd54114d55",
   "metadata": {},
   "source": [
    "# Exports and imports of India "
   ]
  },
  {
   "cell_type": "raw",
   "id": "10550f64-7791-4085-92b9-a4cb562e6f1a",
   "metadata": {},
   "source": [
    "# importing libraries"
   ]
  },
  {
   "cell_type": "code",
   "execution_count": 1,
   "id": "0c103498-0984-44f0-b5f9-d4d9382e3a8f",
   "metadata": {},
   "outputs": [],
   "source": [
    "import pandas as pd\n",
    "import numpy as np\n",
    "import matplotlib.pyplot as plt\n",
    "import seaborn as sns"
   ]
  },
  {
   "cell_type": "markdown",
   "id": "156c707e-e7ce-441e-a04a-df56793204ea",
   "metadata": {},
   "source": [
    "# Importing Dataset"
   ]
  },
  {
   "cell_type": "code",
   "execution_count": 2,
   "id": "b0a14e3e-760f-45a5-8b2a-ce756ce06e06",
   "metadata": {},
   "outputs": [],
   "source": [
    "df=pd.read_csv('C:/Users/Asus/Desktop/exports and imports of india(1997- July 2022) - exports and imports.csv.csv')"
   ]
  },
  {
   "cell_type": "markdown",
   "id": "463177d4-f405-4ecb-8641-1b7e5ea773a4",
   "metadata": {},
   "source": [
    "# Printing Data"
   ]
  },
  {
   "cell_type": "code",
   "execution_count": 4,
   "id": "22d18984-585d-4d5d-a68b-06199a67e151",
   "metadata": {},
   "outputs": [
    {
     "data": {
      "text/html": [
       "<div>\n",
       "<style scoped>\n",
       "    .dataframe tbody tr th:only-of-type {\n",
       "        vertical-align: middle;\n",
       "    }\n",
       "\n",
       "    .dataframe tbody tr th {\n",
       "        vertical-align: top;\n",
       "    }\n",
       "\n",
       "    .dataframe thead th {\n",
       "        text-align: right;\n",
       "    }\n",
       "</style>\n",
       "<table border=\"1\" class=\"dataframe\">\n",
       "  <thead>\n",
       "    <tr style=\"text-align: right;\">\n",
       "      <th></th>\n",
       "      <th>Country</th>\n",
       "      <th>Export</th>\n",
       "      <th>Import</th>\n",
       "      <th>Total Trade</th>\n",
       "      <th>Trade Balance</th>\n",
       "      <th>Financial Year(start)</th>\n",
       "      <th>Financial Year(end)</th>\n",
       "    </tr>\n",
       "  </thead>\n",
       "  <tbody>\n",
       "    <tr>\n",
       "      <th>0</th>\n",
       "      <td>AFGHANISTAN</td>\n",
       "      <td>21.25</td>\n",
       "      <td>10.7</td>\n",
       "      <td>31.95</td>\n",
       "      <td>10.55</td>\n",
       "      <td>1997</td>\n",
       "      <td>1998</td>\n",
       "    </tr>\n",
       "    <tr>\n",
       "      <th>1</th>\n",
       "      <td>AFGHANISTAN</td>\n",
       "      <td>12.81</td>\n",
       "      <td>28.14</td>\n",
       "      <td>40.95</td>\n",
       "      <td>-15.33</td>\n",
       "      <td>1998</td>\n",
       "      <td>1999</td>\n",
       "    </tr>\n",
       "    <tr>\n",
       "      <th>2</th>\n",
       "      <td>AFGHANISTAN</td>\n",
       "      <td>33.2</td>\n",
       "      <td>21.06</td>\n",
       "      <td>54.26</td>\n",
       "      <td>12.15</td>\n",
       "      <td>1999</td>\n",
       "      <td>2000</td>\n",
       "    </tr>\n",
       "    <tr>\n",
       "      <th>3</th>\n",
       "      <td>AFGHANISTAN</td>\n",
       "      <td>25.86</td>\n",
       "      <td>26.59</td>\n",
       "      <td>52.45</td>\n",
       "      <td>-0.73</td>\n",
       "      <td>2000</td>\n",
       "      <td>2001</td>\n",
       "    </tr>\n",
       "    <tr>\n",
       "      <th>4</th>\n",
       "      <td>AFGHANISTAN</td>\n",
       "      <td>24.37</td>\n",
       "      <td>17.52</td>\n",
       "      <td>41.89</td>\n",
       "      <td>6.85</td>\n",
       "      <td>2001</td>\n",
       "      <td>2002</td>\n",
       "    </tr>\n",
       "    <tr>\n",
       "      <th>...</th>\n",
       "      <td>...</td>\n",
       "      <td>...</td>\n",
       "      <td>...</td>\n",
       "      <td>...</td>\n",
       "      <td>...</td>\n",
       "      <td>...</td>\n",
       "      <td>...</td>\n",
       "    </tr>\n",
       "    <tr>\n",
       "      <th>5989</th>\n",
       "      <td>ZIMBABWE</td>\n",
       "      <td>181.72</td>\n",
       "      <td>7.79</td>\n",
       "      <td>189.51</td>\n",
       "      <td>173.93</td>\n",
       "      <td>2018</td>\n",
       "      <td>2019</td>\n",
       "    </tr>\n",
       "    <tr>\n",
       "      <th>5990</th>\n",
       "      <td>ZIMBABWE</td>\n",
       "      <td>161.13</td>\n",
       "      <td>13.59</td>\n",
       "      <td>174.72</td>\n",
       "      <td>147.54</td>\n",
       "      <td>2019</td>\n",
       "      <td>2020</td>\n",
       "    </tr>\n",
       "    <tr>\n",
       "      <th>5991</th>\n",
       "      <td>ZIMBABWE</td>\n",
       "      <td>175.72</td>\n",
       "      <td>5.71</td>\n",
       "      <td>181.42</td>\n",
       "      <td>170.01</td>\n",
       "      <td>2020</td>\n",
       "      <td>2021</td>\n",
       "    </tr>\n",
       "    <tr>\n",
       "      <th>5992</th>\n",
       "      <td>ZIMBABWE</td>\n",
       "      <td>200.49</td>\n",
       "      <td>7.77</td>\n",
       "      <td>208.27</td>\n",
       "      <td>192.72</td>\n",
       "      <td>2021</td>\n",
       "      <td>2022</td>\n",
       "    </tr>\n",
       "    <tr>\n",
       "      <th>5993</th>\n",
       "      <td>ZIMBABWE</td>\n",
       "      <td>50.17</td>\n",
       "      <td>0.61</td>\n",
       "      <td>50.78</td>\n",
       "      <td>49.57</td>\n",
       "      <td>2022</td>\n",
       "      <td>till now</td>\n",
       "    </tr>\n",
       "  </tbody>\n",
       "</table>\n",
       "<p>5994 rows × 7 columns</p>\n",
       "</div>"
      ],
      "text/plain": [
       "          Country  Export Import Total Trade Trade Balance  \\\n",
       "0     AFGHANISTAN   21.25   10.7       31.95         10.55   \n",
       "1     AFGHANISTAN   12.81  28.14       40.95        -15.33   \n",
       "2     AFGHANISTAN    33.2  21.06       54.26         12.15   \n",
       "3     AFGHANISTAN   25.86  26.59       52.45         -0.73   \n",
       "4     AFGHANISTAN   24.37  17.52       41.89          6.85   \n",
       "...           ...     ...    ...         ...           ...   \n",
       "5989     ZIMBABWE  181.72   7.79      189.51        173.93   \n",
       "5990     ZIMBABWE  161.13  13.59      174.72        147.54   \n",
       "5991     ZIMBABWE  175.72   5.71      181.42        170.01   \n",
       "5992     ZIMBABWE  200.49   7.77      208.27        192.72   \n",
       "5993     ZIMBABWE   50.17   0.61       50.78         49.57   \n",
       "\n",
       "      Financial Year(start) Financial Year(end)  \n",
       "0                      1997                1998  \n",
       "1                      1998                1999  \n",
       "2                      1999                2000  \n",
       "3                      2000                2001  \n",
       "4                      2001                2002  \n",
       "...                     ...                 ...  \n",
       "5989                   2018                2019  \n",
       "5990                   2019                2020  \n",
       "5991                   2020                2021  \n",
       "5992                   2021                2022  \n",
       "5993                   2022            till now  \n",
       "\n",
       "[5994 rows x 7 columns]"
      ]
     },
     "execution_count": 4,
     "metadata": {},
     "output_type": "execute_result"
    }
   ],
   "source": [
    "df"
   ]
  },
  {
   "cell_type": "markdown",
   "id": "e5b45ce8-b755-443b-8980-a90647cea648",
   "metadata": {},
   "source": [
    "# Cleaning and Tranforming data "
   ]
  },
  {
   "cell_type": "code",
   "execution_count": 5,
   "id": "b3ef6170-83f9-4f53-ac9f-e4ea344d8b0f",
   "metadata": {},
   "outputs": [
    {
     "name": "stdout",
     "output_type": "stream",
     "text": [
      "<class 'pandas.core.frame.DataFrame'>\n",
      "RangeIndex: 5994 entries, 0 to 5993\n",
      "Data columns (total 7 columns):\n",
      " #   Column                 Non-Null Count  Dtype \n",
      "---  ------                 --------------  ----- \n",
      " 0   Country                5994 non-null   object\n",
      " 1   Export                 5986 non-null   object\n",
      " 2   Import                 5442 non-null   object\n",
      " 3   Total Trade            5409 non-null   object\n",
      " 4   Trade Balance          5408 non-null   object\n",
      " 5   Financial Year(start)  5994 non-null   int64 \n",
      " 6   Financial Year(end)    5994 non-null   object\n",
      "dtypes: int64(1), object(6)\n",
      "memory usage: 327.9+ KB\n"
     ]
    }
   ],
   "source": [
    "df.info()"
   ]
  },
  {
   "cell_type": "code",
   "execution_count": 7,
   "id": "cf4e9688-67ab-4014-9aa4-863c3808bbc2",
   "metadata": {},
   "outputs": [
    {
     "data": {
      "text/plain": [
       "Country                    0\n",
       "Export                     8\n",
       "Import                   552\n",
       "Total Trade              585\n",
       "Trade Balance            586\n",
       "Financial Year(start)      0\n",
       "Financial Year(end)        0\n",
       "dtype: int64"
      ]
     },
     "execution_count": 7,
     "metadata": {},
     "output_type": "execute_result"
    }
   ],
   "source": [
    "df.isnull().sum()"
   ]
  },
  {
   "cell_type": "code",
   "execution_count": 10,
   "id": "29fe3b1b-3555-4145-800f-ee0388ce976d",
   "metadata": {},
   "outputs": [
    {
     "data": {
      "text/plain": [
       "np.int64(0)"
      ]
     },
     "execution_count": 10,
     "metadata": {},
     "output_type": "execute_result"
    }
   ],
   "source": [
    "df.duplicated().sum()"
   ]
  },
  {
   "cell_type": "markdown",
   "id": "5a48f39d-6d90-4a24-8f96-cefdc84fff00",
   "metadata": {},
   "source": [
    "# Droping null values"
   ]
  },
  {
   "cell_type": "code",
   "execution_count": 11,
   "id": "a39c4370-b937-4d3e-ab30-926bbbc27549",
   "metadata": {},
   "outputs": [
    {
     "data": {
      "text/html": [
       "<div>\n",
       "<style scoped>\n",
       "    .dataframe tbody tr th:only-of-type {\n",
       "        vertical-align: middle;\n",
       "    }\n",
       "\n",
       "    .dataframe tbody tr th {\n",
       "        vertical-align: top;\n",
       "    }\n",
       "\n",
       "    .dataframe thead th {\n",
       "        text-align: right;\n",
       "    }\n",
       "</style>\n",
       "<table border=\"1\" class=\"dataframe\">\n",
       "  <thead>\n",
       "    <tr style=\"text-align: right;\">\n",
       "      <th></th>\n",
       "      <th>Country</th>\n",
       "      <th>Export</th>\n",
       "      <th>Import</th>\n",
       "      <th>Total Trade</th>\n",
       "      <th>Trade Balance</th>\n",
       "      <th>Financial Year(start)</th>\n",
       "      <th>Financial Year(end)</th>\n",
       "    </tr>\n",
       "  </thead>\n",
       "  <tbody>\n",
       "    <tr>\n",
       "      <th>0</th>\n",
       "      <td>AFGHANISTAN</td>\n",
       "      <td>21.25</td>\n",
       "      <td>10.7</td>\n",
       "      <td>31.95</td>\n",
       "      <td>10.55</td>\n",
       "      <td>1997</td>\n",
       "      <td>1998</td>\n",
       "    </tr>\n",
       "    <tr>\n",
       "      <th>1</th>\n",
       "      <td>AFGHANISTAN</td>\n",
       "      <td>12.81</td>\n",
       "      <td>28.14</td>\n",
       "      <td>40.95</td>\n",
       "      <td>-15.33</td>\n",
       "      <td>1998</td>\n",
       "      <td>1999</td>\n",
       "    </tr>\n",
       "    <tr>\n",
       "      <th>2</th>\n",
       "      <td>AFGHANISTAN</td>\n",
       "      <td>33.2</td>\n",
       "      <td>21.06</td>\n",
       "      <td>54.26</td>\n",
       "      <td>12.15</td>\n",
       "      <td>1999</td>\n",
       "      <td>2000</td>\n",
       "    </tr>\n",
       "    <tr>\n",
       "      <th>3</th>\n",
       "      <td>AFGHANISTAN</td>\n",
       "      <td>25.86</td>\n",
       "      <td>26.59</td>\n",
       "      <td>52.45</td>\n",
       "      <td>-0.73</td>\n",
       "      <td>2000</td>\n",
       "      <td>2001</td>\n",
       "    </tr>\n",
       "    <tr>\n",
       "      <th>4</th>\n",
       "      <td>AFGHANISTAN</td>\n",
       "      <td>24.37</td>\n",
       "      <td>17.52</td>\n",
       "      <td>41.89</td>\n",
       "      <td>6.85</td>\n",
       "      <td>2001</td>\n",
       "      <td>2002</td>\n",
       "    </tr>\n",
       "    <tr>\n",
       "      <th>...</th>\n",
       "      <td>...</td>\n",
       "      <td>...</td>\n",
       "      <td>...</td>\n",
       "      <td>...</td>\n",
       "      <td>...</td>\n",
       "      <td>...</td>\n",
       "      <td>...</td>\n",
       "    </tr>\n",
       "    <tr>\n",
       "      <th>5989</th>\n",
       "      <td>ZIMBABWE</td>\n",
       "      <td>181.72</td>\n",
       "      <td>7.79</td>\n",
       "      <td>189.51</td>\n",
       "      <td>173.93</td>\n",
       "      <td>2018</td>\n",
       "      <td>2019</td>\n",
       "    </tr>\n",
       "    <tr>\n",
       "      <th>5990</th>\n",
       "      <td>ZIMBABWE</td>\n",
       "      <td>161.13</td>\n",
       "      <td>13.59</td>\n",
       "      <td>174.72</td>\n",
       "      <td>147.54</td>\n",
       "      <td>2019</td>\n",
       "      <td>2020</td>\n",
       "    </tr>\n",
       "    <tr>\n",
       "      <th>5991</th>\n",
       "      <td>ZIMBABWE</td>\n",
       "      <td>175.72</td>\n",
       "      <td>5.71</td>\n",
       "      <td>181.42</td>\n",
       "      <td>170.01</td>\n",
       "      <td>2020</td>\n",
       "      <td>2021</td>\n",
       "    </tr>\n",
       "    <tr>\n",
       "      <th>5992</th>\n",
       "      <td>ZIMBABWE</td>\n",
       "      <td>200.49</td>\n",
       "      <td>7.77</td>\n",
       "      <td>208.27</td>\n",
       "      <td>192.72</td>\n",
       "      <td>2021</td>\n",
       "      <td>2022</td>\n",
       "    </tr>\n",
       "    <tr>\n",
       "      <th>5993</th>\n",
       "      <td>ZIMBABWE</td>\n",
       "      <td>50.17</td>\n",
       "      <td>0.61</td>\n",
       "      <td>50.78</td>\n",
       "      <td>49.57</td>\n",
       "      <td>2022</td>\n",
       "      <td>till now</td>\n",
       "    </tr>\n",
       "  </tbody>\n",
       "</table>\n",
       "<p>5408 rows × 7 columns</p>\n",
       "</div>"
      ],
      "text/plain": [
       "          Country  Export Import Total Trade Trade Balance  \\\n",
       "0     AFGHANISTAN   21.25   10.7       31.95         10.55   \n",
       "1     AFGHANISTAN   12.81  28.14       40.95        -15.33   \n",
       "2     AFGHANISTAN    33.2  21.06       54.26         12.15   \n",
       "3     AFGHANISTAN   25.86  26.59       52.45         -0.73   \n",
       "4     AFGHANISTAN   24.37  17.52       41.89          6.85   \n",
       "...           ...     ...    ...         ...           ...   \n",
       "5989     ZIMBABWE  181.72   7.79      189.51        173.93   \n",
       "5990     ZIMBABWE  161.13  13.59      174.72        147.54   \n",
       "5991     ZIMBABWE  175.72   5.71      181.42        170.01   \n",
       "5992     ZIMBABWE  200.49   7.77      208.27        192.72   \n",
       "5993     ZIMBABWE   50.17   0.61       50.78         49.57   \n",
       "\n",
       "      Financial Year(start) Financial Year(end)  \n",
       "0                      1997                1998  \n",
       "1                      1998                1999  \n",
       "2                      1999                2000  \n",
       "3                      2000                2001  \n",
       "4                      2001                2002  \n",
       "...                     ...                 ...  \n",
       "5989                   2018                2019  \n",
       "5990                   2019                2020  \n",
       "5991                   2020                2021  \n",
       "5992                   2021                2022  \n",
       "5993                   2022            till now  \n",
       "\n",
       "[5408 rows x 7 columns]"
      ]
     },
     "execution_count": 11,
     "metadata": {},
     "output_type": "execute_result"
    }
   ],
   "source": [
    "df=df.dropna()\n",
    "df"
   ]
  },
  {
   "cell_type": "code",
   "execution_count": 19,
   "id": "ee5942d5-dede-4590-b4d7-70484b9c52d8",
   "metadata": {},
   "outputs": [
    {
     "name": "stdout",
     "output_type": "stream",
     "text": [
      "<class 'pandas.core.frame.DataFrame'>\n",
      "Index: 5408 entries, 0 to 5993\n",
      "Data columns (total 7 columns):\n",
      " #   Column                 Non-Null Count  Dtype \n",
      "---  ------                 --------------  ----- \n",
      " 0   Country                5408 non-null   object\n",
      " 1   Export                 5408 non-null   object\n",
      " 2   Import                 5408 non-null   object\n",
      " 3   Total Trade            5408 non-null   object\n",
      " 4   Trade Balance          5408 non-null   object\n",
      " 5   Financial Year(start)  5408 non-null   int64 \n",
      " 6   Financial Year(end)    5408 non-null   object\n",
      "dtypes: int64(1), object(6)\n",
      "memory usage: 338.0+ KB\n"
     ]
    }
   ],
   "source": [
    "df.info() # information"
   ]
  },
  {
   "cell_type": "code",
   "execution_count": 21,
   "id": "dbbea4da-223e-4ad7-af60-25c7147b5bf4",
   "metadata": {},
   "outputs": [
    {
     "data": {
      "text/html": [
       "<div>\n",
       "<style scoped>\n",
       "    .dataframe tbody tr th:only-of-type {\n",
       "        vertical-align: middle;\n",
       "    }\n",
       "\n",
       "    .dataframe tbody tr th {\n",
       "        vertical-align: top;\n",
       "    }\n",
       "\n",
       "    .dataframe thead th {\n",
       "        text-align: right;\n",
       "    }\n",
       "</style>\n",
       "<table border=\"1\" class=\"dataframe\">\n",
       "  <thead>\n",
       "    <tr style=\"text-align: right;\">\n",
       "      <th></th>\n",
       "      <th>Financial Year(start)</th>\n",
       "    </tr>\n",
       "  </thead>\n",
       "  <tbody>\n",
       "    <tr>\n",
       "      <th>count</th>\n",
       "      <td>5408.00</td>\n",
       "    </tr>\n",
       "    <tr>\n",
       "      <th>mean</th>\n",
       "      <td>2009.97</td>\n",
       "    </tr>\n",
       "    <tr>\n",
       "      <th>std</th>\n",
       "      <td>7.29</td>\n",
       "    </tr>\n",
       "    <tr>\n",
       "      <th>min</th>\n",
       "      <td>1997.00</td>\n",
       "    </tr>\n",
       "    <tr>\n",
       "      <th>25%</th>\n",
       "      <td>2004.00</td>\n",
       "    </tr>\n",
       "    <tr>\n",
       "      <th>50%</th>\n",
       "      <td>2010.00</td>\n",
       "    </tr>\n",
       "    <tr>\n",
       "      <th>75%</th>\n",
       "      <td>2016.00</td>\n",
       "    </tr>\n",
       "    <tr>\n",
       "      <th>max</th>\n",
       "      <td>2022.00</td>\n",
       "    </tr>\n",
       "  </tbody>\n",
       "</table>\n",
       "</div>"
      ],
      "text/plain": [
       "       Financial Year(start)\n",
       "count                5408.00\n",
       "mean                 2009.97\n",
       "std                     7.29\n",
       "min                  1997.00\n",
       "25%                  2004.00\n",
       "50%                  2010.00\n",
       "75%                  2016.00\n",
       "max                  2022.00"
      ]
     },
     "execution_count": 21,
     "metadata": {},
     "output_type": "execute_result"
    }
   ],
   "source": [
    "data=df.describe() # describes analytical values\n",
    "data.round(2)"
   ]
  },
  {
   "cell_type": "code",
   "execution_count": 20,
   "id": "86febd4c-4b08-4821-a81a-f1d6865a0e04",
   "metadata": {},
   "outputs": [
    {
     "data": {
      "text/plain": [
       "Country                  object\n",
       "Export                   object\n",
       "Import                   object\n",
       "Total Trade              object\n",
       "Trade Balance            object\n",
       "Financial Year(start)     int64\n",
       "Financial Year(end)      object\n",
       "dtype: object"
      ]
     },
     "execution_count": 20,
     "metadata": {},
     "output_type": "execute_result"
    }
   ],
   "source": [
    "df.dtypes # shows data types of each column"
   ]
  },
  {
   "cell_type": "markdown",
   "id": "384348fb-cfc1-4c48-85b5-4773f9daf749",
   "metadata": {},
   "source": [
    "# Changing the Data type for making the analysing easier"
   ]
  },
  {
   "cell_type": "code",
   "execution_count": 48,
   "id": "f2cfd615-a922-4a61-b6a5-d671615fa972",
   "metadata": {},
   "outputs": [
    {
     "data": {
      "text/plain": [
       "Country                          object\n",
       "Export                          float64\n",
       "Import                          float64\n",
       "Total Trade                     float64\n",
       "Trade Balance                   float64\n",
       "Financial Year(start)             int64\n",
       "Financial Year(end)      datetime64[ns]\n",
       "year                              int64\n",
       "dtype: object"
      ]
     },
     "execution_count": 48,
     "metadata": {},
     "output_type": "execute_result"
    }
   ],
   "source": [
    "df.dtypes # data types are changed using to_numeric()method of pandas and error=\"coerce\""
   ]
  },
  {
   "cell_type": "code",
   "execution_count": 29,
   "id": "ad3b32a2-4527-418d-9ebb-d20e00a1d768",
   "metadata": {},
   "outputs": [
    {
     "name": "stderr",
     "output_type": "stream",
     "text": [
      "C:\\Users\\Asus\\AppData\\Local\\Temp\\ipykernel_3776\\1884124677.py:1: SettingWithCopyWarning: \n",
      "A value is trying to be set on a copy of a slice from a DataFrame.\n",
      "Try using .loc[row_indexer,col_indexer] = value instead\n",
      "\n",
      "See the caveats in the documentation: https://pandas.pydata.org/pandas-docs/stable/user_guide/indexing.html#returning-a-view-versus-a-copy\n",
      "  df['Financial Year(end)']=pd.to_datetime(df['Financial Year(end)'],errors='coerce')\n"
     ]
    }
   ],
   "source": [
    "df['Financial Year(end)']=pd.to_datetime(df['Financial Year(end)'],errors='coerce'"
   ]
  },
  {
   "cell_type": "code",
   "execution_count": 40,
   "id": "d8aad923-2db2-4ab5-9648-a5410def5eba",
   "metadata": {},
   "outputs": [
    {
     "data": {
      "text/plain": [
       "Country                          object\n",
       "Export                          float64\n",
       "Import                          float64\n",
       "Total Trade                     float64\n",
       "Trade Balance                   float64\n",
       "Financial Year(start)             int64\n",
       "Financial Year(end)      datetime64[ns]\n",
       "dtype: object"
      ]
     },
     "execution_count": 40,
     "metadata": {},
     "output_type": "execute_result"
    }
   ],
   "source": [
    "df.dtypes"
   ]
  },
  {
   "cell_type": "code",
   "execution_count": 41,
   "id": "9f552b51-120c-458e-b5e3-574a89ca680e",
   "metadata": {},
   "outputs": [
    {
     "data": {
      "text/html": [
       "<div>\n",
       "<style scoped>\n",
       "    .dataframe tbody tr th:only-of-type {\n",
       "        vertical-align: middle;\n",
       "    }\n",
       "\n",
       "    .dataframe tbody tr th {\n",
       "        vertical-align: top;\n",
       "    }\n",
       "\n",
       "    .dataframe thead th {\n",
       "        text-align: right;\n",
       "    }\n",
       "</style>\n",
       "<table border=\"1\" class=\"dataframe\">\n",
       "  <thead>\n",
       "    <tr style=\"text-align: right;\">\n",
       "      <th></th>\n",
       "      <th>Country</th>\n",
       "      <th>Export</th>\n",
       "      <th>Import</th>\n",
       "      <th>Total Trade</th>\n",
       "      <th>Trade Balance</th>\n",
       "      <th>Financial Year(start)</th>\n",
       "      <th>Financial Year(end)</th>\n",
       "    </tr>\n",
       "  </thead>\n",
       "  <tbody>\n",
       "    <tr>\n",
       "      <th>0</th>\n",
       "      <td>AFGHANISTAN</td>\n",
       "      <td>21.25</td>\n",
       "      <td>10.70</td>\n",
       "      <td>31.95</td>\n",
       "      <td>10.55</td>\n",
       "      <td>1997</td>\n",
       "      <td>1998-01-01</td>\n",
       "    </tr>\n",
       "    <tr>\n",
       "      <th>1</th>\n",
       "      <td>AFGHANISTAN</td>\n",
       "      <td>12.81</td>\n",
       "      <td>28.14</td>\n",
       "      <td>40.95</td>\n",
       "      <td>-15.33</td>\n",
       "      <td>1998</td>\n",
       "      <td>1999-01-01</td>\n",
       "    </tr>\n",
       "    <tr>\n",
       "      <th>2</th>\n",
       "      <td>AFGHANISTAN</td>\n",
       "      <td>33.20</td>\n",
       "      <td>21.06</td>\n",
       "      <td>54.26</td>\n",
       "      <td>12.15</td>\n",
       "      <td>1999</td>\n",
       "      <td>2000-01-01</td>\n",
       "    </tr>\n",
       "    <tr>\n",
       "      <th>3</th>\n",
       "      <td>AFGHANISTAN</td>\n",
       "      <td>25.86</td>\n",
       "      <td>26.59</td>\n",
       "      <td>52.45</td>\n",
       "      <td>-0.73</td>\n",
       "      <td>2000</td>\n",
       "      <td>2001-01-01</td>\n",
       "    </tr>\n",
       "    <tr>\n",
       "      <th>4</th>\n",
       "      <td>AFGHANISTAN</td>\n",
       "      <td>24.37</td>\n",
       "      <td>17.52</td>\n",
       "      <td>41.89</td>\n",
       "      <td>6.85</td>\n",
       "      <td>2001</td>\n",
       "      <td>2002-01-01</td>\n",
       "    </tr>\n",
       "    <tr>\n",
       "      <th>...</th>\n",
       "      <td>...</td>\n",
       "      <td>...</td>\n",
       "      <td>...</td>\n",
       "      <td>...</td>\n",
       "      <td>...</td>\n",
       "      <td>...</td>\n",
       "      <td>...</td>\n",
       "    </tr>\n",
       "    <tr>\n",
       "      <th>5988</th>\n",
       "      <td>ZIMBABWE</td>\n",
       "      <td>163.54</td>\n",
       "      <td>62.20</td>\n",
       "      <td>225.74</td>\n",
       "      <td>101.34</td>\n",
       "      <td>2017</td>\n",
       "      <td>2018-01-01</td>\n",
       "    </tr>\n",
       "    <tr>\n",
       "      <th>5989</th>\n",
       "      <td>ZIMBABWE</td>\n",
       "      <td>181.72</td>\n",
       "      <td>7.79</td>\n",
       "      <td>189.51</td>\n",
       "      <td>173.93</td>\n",
       "      <td>2018</td>\n",
       "      <td>2019-01-01</td>\n",
       "    </tr>\n",
       "    <tr>\n",
       "      <th>5990</th>\n",
       "      <td>ZIMBABWE</td>\n",
       "      <td>161.13</td>\n",
       "      <td>13.59</td>\n",
       "      <td>174.72</td>\n",
       "      <td>147.54</td>\n",
       "      <td>2019</td>\n",
       "      <td>2020-01-01</td>\n",
       "    </tr>\n",
       "    <tr>\n",
       "      <th>5991</th>\n",
       "      <td>ZIMBABWE</td>\n",
       "      <td>175.72</td>\n",
       "      <td>5.71</td>\n",
       "      <td>181.42</td>\n",
       "      <td>170.01</td>\n",
       "      <td>2020</td>\n",
       "      <td>2021-01-01</td>\n",
       "    </tr>\n",
       "    <tr>\n",
       "      <th>5992</th>\n",
       "      <td>ZIMBABWE</td>\n",
       "      <td>200.49</td>\n",
       "      <td>7.77</td>\n",
       "      <td>208.27</td>\n",
       "      <td>192.72</td>\n",
       "      <td>2021</td>\n",
       "      <td>2022-01-01</td>\n",
       "    </tr>\n",
       "  </tbody>\n",
       "</table>\n",
       "<p>5203 rows × 7 columns</p>\n",
       "</div>"
      ],
      "text/plain": [
       "          Country  Export  Import  Total Trade  Trade Balance  \\\n",
       "0     AFGHANISTAN   21.25   10.70        31.95          10.55   \n",
       "1     AFGHANISTAN   12.81   28.14        40.95         -15.33   \n",
       "2     AFGHANISTAN   33.20   21.06        54.26          12.15   \n",
       "3     AFGHANISTAN   25.86   26.59        52.45          -0.73   \n",
       "4     AFGHANISTAN   24.37   17.52        41.89           6.85   \n",
       "...           ...     ...     ...          ...            ...   \n",
       "5988     ZIMBABWE  163.54   62.20       225.74         101.34   \n",
       "5989     ZIMBABWE  181.72    7.79       189.51         173.93   \n",
       "5990     ZIMBABWE  161.13   13.59       174.72         147.54   \n",
       "5991     ZIMBABWE  175.72    5.71       181.42         170.01   \n",
       "5992     ZIMBABWE  200.49    7.77       208.27         192.72   \n",
       "\n",
       "      Financial Year(start) Financial Year(end)  \n",
       "0                      1997          1998-01-01  \n",
       "1                      1998          1999-01-01  \n",
       "2                      1999          2000-01-01  \n",
       "3                      2000          2001-01-01  \n",
       "4                      2001          2002-01-01  \n",
       "...                     ...                 ...  \n",
       "5988                   2017          2018-01-01  \n",
       "5989                   2018          2019-01-01  \n",
       "5990                   2019          2020-01-01  \n",
       "5991                   2020          2021-01-01  \n",
       "5992                   2021          2022-01-01  \n",
       "\n",
       "[5203 rows x 7 columns]"
      ]
     },
     "execution_count": 41,
     "metadata": {},
     "output_type": "execute_result"
    }
   ],
   "source": [
    "df"
   ]
  },
  {
   "cell_type": "code",
   "execution_count": 43,
   "id": "044641f8-8535-4f5d-ac5c-7da041bd9803",
   "metadata": {},
   "outputs": [],
   "source": [
    "# removing time from datetime type of 'Financial Year(end)'"
   ]
  },
  {
   "cell_type": "code",
   "execution_count": 44,
   "id": "fb243772-110c-45c6-882c-0735e1be53b9",
   "metadata": {},
   "outputs": [
    {
     "name": "stderr",
     "output_type": "stream",
     "text": [
      "C:\\Users\\Asus\\AppData\\Local\\Temp\\ipykernel_3776\\817344485.py:1: SettingWithCopyWarning: \n",
      "A value is trying to be set on a copy of a slice from a DataFrame.\n",
      "Try using .loc[row_indexer,col_indexer] = value instead\n",
      "\n",
      "See the caveats in the documentation: https://pandas.pydata.org/pandas-docs/stable/user_guide/indexing.html#returning-a-view-versus-a-copy\n",
      "  df['year']=pd.to_datetime(df['Financial Year(end)']).dt.year\n"
     ]
    }
   ],
   "source": [
    "df['year']=pd.to_datetime(df['Financial Year(end)']).dt.year"
   ]
  },
  {
   "cell_type": "code",
   "execution_count": 45,
   "id": "77fcf8f0-5299-4ffa-b931-fd3b00ae1ccc",
   "metadata": {},
   "outputs": [
    {
     "data": {
      "text/html": [
       "<div>\n",
       "<style scoped>\n",
       "    .dataframe tbody tr th:only-of-type {\n",
       "        vertical-align: middle;\n",
       "    }\n",
       "\n",
       "    .dataframe tbody tr th {\n",
       "        vertical-align: top;\n",
       "    }\n",
       "\n",
       "    .dataframe thead th {\n",
       "        text-align: right;\n",
       "    }\n",
       "</style>\n",
       "<table border=\"1\" class=\"dataframe\">\n",
       "  <thead>\n",
       "    <tr style=\"text-align: right;\">\n",
       "      <th></th>\n",
       "      <th>Country</th>\n",
       "      <th>Export</th>\n",
       "      <th>Import</th>\n",
       "      <th>Total Trade</th>\n",
       "      <th>Trade Balance</th>\n",
       "      <th>Financial Year(start)</th>\n",
       "      <th>Financial Year(end)</th>\n",
       "      <th>year</th>\n",
       "    </tr>\n",
       "  </thead>\n",
       "  <tbody>\n",
       "    <tr>\n",
       "      <th>0</th>\n",
       "      <td>AFGHANISTAN</td>\n",
       "      <td>21.25</td>\n",
       "      <td>10.70</td>\n",
       "      <td>31.95</td>\n",
       "      <td>10.55</td>\n",
       "      <td>1997</td>\n",
       "      <td>1998-01-01</td>\n",
       "      <td>1998</td>\n",
       "    </tr>\n",
       "    <tr>\n",
       "      <th>1</th>\n",
       "      <td>AFGHANISTAN</td>\n",
       "      <td>12.81</td>\n",
       "      <td>28.14</td>\n",
       "      <td>40.95</td>\n",
       "      <td>-15.33</td>\n",
       "      <td>1998</td>\n",
       "      <td>1999-01-01</td>\n",
       "      <td>1999</td>\n",
       "    </tr>\n",
       "    <tr>\n",
       "      <th>2</th>\n",
       "      <td>AFGHANISTAN</td>\n",
       "      <td>33.20</td>\n",
       "      <td>21.06</td>\n",
       "      <td>54.26</td>\n",
       "      <td>12.15</td>\n",
       "      <td>1999</td>\n",
       "      <td>2000-01-01</td>\n",
       "      <td>2000</td>\n",
       "    </tr>\n",
       "    <tr>\n",
       "      <th>3</th>\n",
       "      <td>AFGHANISTAN</td>\n",
       "      <td>25.86</td>\n",
       "      <td>26.59</td>\n",
       "      <td>52.45</td>\n",
       "      <td>-0.73</td>\n",
       "      <td>2000</td>\n",
       "      <td>2001-01-01</td>\n",
       "      <td>2001</td>\n",
       "    </tr>\n",
       "    <tr>\n",
       "      <th>4</th>\n",
       "      <td>AFGHANISTAN</td>\n",
       "      <td>24.37</td>\n",
       "      <td>17.52</td>\n",
       "      <td>41.89</td>\n",
       "      <td>6.85</td>\n",
       "      <td>2001</td>\n",
       "      <td>2002-01-01</td>\n",
       "      <td>2002</td>\n",
       "    </tr>\n",
       "    <tr>\n",
       "      <th>...</th>\n",
       "      <td>...</td>\n",
       "      <td>...</td>\n",
       "      <td>...</td>\n",
       "      <td>...</td>\n",
       "      <td>...</td>\n",
       "      <td>...</td>\n",
       "      <td>...</td>\n",
       "      <td>...</td>\n",
       "    </tr>\n",
       "    <tr>\n",
       "      <th>5988</th>\n",
       "      <td>ZIMBABWE</td>\n",
       "      <td>163.54</td>\n",
       "      <td>62.20</td>\n",
       "      <td>225.74</td>\n",
       "      <td>101.34</td>\n",
       "      <td>2017</td>\n",
       "      <td>2018-01-01</td>\n",
       "      <td>2018</td>\n",
       "    </tr>\n",
       "    <tr>\n",
       "      <th>5989</th>\n",
       "      <td>ZIMBABWE</td>\n",
       "      <td>181.72</td>\n",
       "      <td>7.79</td>\n",
       "      <td>189.51</td>\n",
       "      <td>173.93</td>\n",
       "      <td>2018</td>\n",
       "      <td>2019-01-01</td>\n",
       "      <td>2019</td>\n",
       "    </tr>\n",
       "    <tr>\n",
       "      <th>5990</th>\n",
       "      <td>ZIMBABWE</td>\n",
       "      <td>161.13</td>\n",
       "      <td>13.59</td>\n",
       "      <td>174.72</td>\n",
       "      <td>147.54</td>\n",
       "      <td>2019</td>\n",
       "      <td>2020-01-01</td>\n",
       "      <td>2020</td>\n",
       "    </tr>\n",
       "    <tr>\n",
       "      <th>5991</th>\n",
       "      <td>ZIMBABWE</td>\n",
       "      <td>175.72</td>\n",
       "      <td>5.71</td>\n",
       "      <td>181.42</td>\n",
       "      <td>170.01</td>\n",
       "      <td>2020</td>\n",
       "      <td>2021-01-01</td>\n",
       "      <td>2021</td>\n",
       "    </tr>\n",
       "    <tr>\n",
       "      <th>5992</th>\n",
       "      <td>ZIMBABWE</td>\n",
       "      <td>200.49</td>\n",
       "      <td>7.77</td>\n",
       "      <td>208.27</td>\n",
       "      <td>192.72</td>\n",
       "      <td>2021</td>\n",
       "      <td>2022-01-01</td>\n",
       "      <td>2022</td>\n",
       "    </tr>\n",
       "  </tbody>\n",
       "</table>\n",
       "<p>5203 rows × 8 columns</p>\n",
       "</div>"
      ],
      "text/plain": [
       "          Country  Export  Import  Total Trade  Trade Balance  \\\n",
       "0     AFGHANISTAN   21.25   10.70        31.95          10.55   \n",
       "1     AFGHANISTAN   12.81   28.14        40.95         -15.33   \n",
       "2     AFGHANISTAN   33.20   21.06        54.26          12.15   \n",
       "3     AFGHANISTAN   25.86   26.59        52.45          -0.73   \n",
       "4     AFGHANISTAN   24.37   17.52        41.89           6.85   \n",
       "...           ...     ...     ...          ...            ...   \n",
       "5988     ZIMBABWE  163.54   62.20       225.74         101.34   \n",
       "5989     ZIMBABWE  181.72    7.79       189.51         173.93   \n",
       "5990     ZIMBABWE  161.13   13.59       174.72         147.54   \n",
       "5991     ZIMBABWE  175.72    5.71       181.42         170.01   \n",
       "5992     ZIMBABWE  200.49    7.77       208.27         192.72   \n",
       "\n",
       "      Financial Year(start) Financial Year(end)  year  \n",
       "0                      1997          1998-01-01  1998  \n",
       "1                      1998          1999-01-01  1999  \n",
       "2                      1999          2000-01-01  2000  \n",
       "3                      2000          2001-01-01  2001  \n",
       "4                      2001          2002-01-01  2002  \n",
       "...                     ...                 ...   ...  \n",
       "5988                   2017          2018-01-01  2018  \n",
       "5989                   2018          2019-01-01  2019  \n",
       "5990                   2019          2020-01-01  2020  \n",
       "5991                   2020          2021-01-01  2021  \n",
       "5992                   2021          2022-01-01  2022  \n",
       "\n",
       "[5203 rows x 8 columns]"
      ]
     },
     "execution_count": 45,
     "metadata": {},
     "output_type": "execute_result"
    }
   ],
   "source": [
    "df"
   ]
  },
  {
   "cell_type": "code",
   "execution_count": 46,
   "id": "3ec71b4a-f870-414a-ae01-3012663e15b5",
   "metadata": {},
   "outputs": [
    {
     "name": "stderr",
     "output_type": "stream",
     "text": [
      "C:\\Users\\Asus\\AppData\\Local\\Temp\\ipykernel_3776\\965406236.py:1: SettingWithCopyWarning: \n",
      "A value is trying to be set on a copy of a slice from a DataFrame.\n",
      "Try using .loc[row_indexer,col_indexer] = value instead\n",
      "\n",
      "See the caveats in the documentation: https://pandas.pydata.org/pandas-docs/stable/user_guide/indexing.html#returning-a-view-versus-a-copy\n",
      "  df['year']=df['year'].astype(int)\n"
     ]
    }
   ],
   "source": [
    " df['year']=df['year'].astype(int) #converting \"year column\" data type to int type"
   ]
  },
  {
   "cell_type": "code",
   "execution_count": 47,
   "id": "b5f4ddf9-688f-41d9-b214-43d8b07046db",
   "metadata": {},
   "outputs": [
    {
     "data": {
      "text/plain": [
       "Country                          object\n",
       "Export                          float64\n",
       "Import                          float64\n",
       "Total Trade                     float64\n",
       "Trade Balance                   float64\n",
       "Financial Year(start)             int64\n",
       "Financial Year(end)      datetime64[ns]\n",
       "year                              int64\n",
       "dtype: object"
      ]
     },
     "execution_count": 47,
     "metadata": {},
     "output_type": "execute_result"
    }
   ],
   "source": [
    "df.dtypes"
   ]
  },
  {
   "cell_type": "markdown",
   "id": "778cadcb-5571-42b1-bb09-b20364d4be85",
   "metadata": {},
   "source": [
    "# India's total_import_export by Year"
   ]
  },
  {
   "cell_type": "code",
   "execution_count": 49,
   "id": "d03bb07d-add3-4265-9c81-e922d83ef603",
   "metadata": {},
   "outputs": [],
   "source": [
    "total_import_export_by_year=df.groupby('year')[['Export','Import']].sum()"
   ]
  },
  {
   "cell_type": "code",
   "execution_count": 52,
   "id": "0a5df85b-8db0-4f26-9b81-8a7086bfd84e",
   "metadata": {},
   "outputs": [
    {
     "data": {
      "text/html": [
       "<div>\n",
       "<style scoped>\n",
       "    .dataframe tbody tr th:only-of-type {\n",
       "        vertical-align: middle;\n",
       "    }\n",
       "\n",
       "    .dataframe tbody tr th {\n",
       "        vertical-align: top;\n",
       "    }\n",
       "\n",
       "    .dataframe thead th {\n",
       "        text-align: right;\n",
       "    }\n",
       "</style>\n",
       "<table border=\"1\" class=\"dataframe\">\n",
       "  <thead>\n",
       "    <tr style=\"text-align: right;\">\n",
       "      <th></th>\n",
       "      <th>Export</th>\n",
       "      <th>Import</th>\n",
       "    </tr>\n",
       "    <tr>\n",
       "      <th>year</th>\n",
       "      <th></th>\n",
       "      <th></th>\n",
       "    </tr>\n",
       "  </thead>\n",
       "  <tbody>\n",
       "    <tr>\n",
       "      <th>2013</th>\n",
       "      <td>300250.25</td>\n",
       "      <td>490736.67</td>\n",
       "    </tr>\n",
       "    <tr>\n",
       "      <th>2014</th>\n",
       "      <td>314396.61</td>\n",
       "      <td>450197.66</td>\n",
       "    </tr>\n",
       "    <tr>\n",
       "      <th>2015</th>\n",
       "      <td>310336.65</td>\n",
       "      <td>447964.44</td>\n",
       "    </tr>\n",
       "    <tr>\n",
       "      <th>2016</th>\n",
       "      <td>261088.21</td>\n",
       "      <td>381007.51</td>\n",
       "    </tr>\n",
       "    <tr>\n",
       "      <th>2017</th>\n",
       "      <td>274472.21</td>\n",
       "      <td>384356.26</td>\n",
       "    </tr>\n",
       "    <tr>\n",
       "      <th>2018</th>\n",
       "      <td>303477.41</td>\n",
       "      <td>465580.24</td>\n",
       "    </tr>\n",
       "    <tr>\n",
       "      <th>2019</th>\n",
       "      <td>330070.24</td>\n",
       "      <td>514078.34</td>\n",
       "    </tr>\n",
       "    <tr>\n",
       "      <th>2020</th>\n",
       "      <td>313338.50</td>\n",
       "      <td>474709.17</td>\n",
       "    </tr>\n",
       "    <tr>\n",
       "      <th>2021</th>\n",
       "      <td>291806.70</td>\n",
       "      <td>394435.93</td>\n",
       "    </tr>\n",
       "    <tr>\n",
       "      <th>2022</th>\n",
       "      <td>421873.79</td>\n",
       "      <td>612607.16</td>\n",
       "    </tr>\n",
       "  </tbody>\n",
       "</table>\n",
       "</div>"
      ],
      "text/plain": [
       "         Export     Import\n",
       "year                      \n",
       "2013  300250.25  490736.67\n",
       "2014  314396.61  450197.66\n",
       "2015  310336.65  447964.44\n",
       "2016  261088.21  381007.51\n",
       "2017  274472.21  384356.26\n",
       "2018  303477.41  465580.24\n",
       "2019  330070.24  514078.34\n",
       "2020  313338.50  474709.17\n",
       "2021  291806.70  394435.93\n",
       "2022  421873.79  612607.16"
      ]
     },
     "execution_count": 52,
     "metadata": {},
     "output_type": "execute_result"
    }
   ],
   "source": [
    "total_import_export_by_year.round(2)\n",
    "total_import_export_by_year.tail(10)"
   ]
  },
  {
   "cell_type": "code",
   "execution_count": 53,
   "id": "d88d8b12-9214-4033-8e61-abe29a994e5c",
   "metadata": {},
   "outputs": [
    {
     "data": {
      "image/png": "[encoded data removed]",
      "text/plain": [
       "<Figure size 1200x400 with 1 Axes>"
      ]
     },
     "metadata": {},
     "output_type": "display_data"
    }
   ],
   "source": [
    "total_import_export_by_year.plot(kind='line',figsize=(12,4))\n",
    "plt.title(\"India's Total Export Import by year\")\n",
    "plt.xlabel('year')\n",
    "plt.ylabel('Value in CR')\n",
    "plt.show()\n"
   ]
  },
  {
   "cell_type": "markdown",
   "id": "3e87ae0e-0901-4467-8e90-b7c0143d8b8d",
   "metadata": {
    "jp-MarkdownHeadingCollapsed": true
   },
   "source": [
    "# Top 10 Exporting c"
   ]
  },
  {
   "cell_type": "code",
   "execution_count": 57,
   "id": "db17a44d-7678-45ff-95eb-1a163a3f1c90",
   "metadata": {},
   "outputs": [
    {
     "data": {
      "text/plain": [
       "Country\n",
       "U S A            715369.25\n",
       "U ARAB EMTS      474124.41\n",
       "CHINA P RP       241798.02\n",
       "HONG KONG        198715.71\n",
       "SINGAPORE        176687.18\n",
       "U K              157203.39\n",
       "GERMANY          136335.93\n",
       "NETHERLAND       125247.72\n",
       "SAUDI ARAB       111311.67\n",
       "BANGLADESH PR    109549.77\n",
       "Name: Export, dtype: float64"
      ]
     },
     "execution_count": 57,
     "metadata": {},
     "output_type": "execute_result"
    }
   ],
   "source": [
    "top_10_exporting_countries=df.groupby('Country')['Export'].sum().nlargest(10)\n",
    "top_10_exporting_countries"
   ]
  },
  {
   "cell_type": "code",
   "execution_count": 58,
   "id": "48a59a9f-d6b0-466d-9fe0-b8c5f2a69e70",
   "metadata": {},
   "outputs": [
    {
     "data": {
      "image/png": "[encoded data removed]",
      "text/plain": [
       "<Figure size 700x400 with 1 Axes>"
      ]
     },
     "metadata": {},
     "output_type": "display_data"
    }
   ],
   "source": [
    "top_10_exporting_countries.plot(kind='bar',color='skyblue',figsize=(7,4))\n",
    "plt.title('top_10_exporting_countries of India')\n",
    "plt.xlabel('Country')\n",
    "plt.ylabel('Export_Value ')\n",
    "plt.show()"
   ]
  },
  {
   "cell_type": "markdown",
   "id": "9efcdf00-1bba-4abf-a695-5cfe13f35692",
   "metadata": {},
   "source": [
    "# Top 10 Importing countries"
   ]
  },
  {
   "cell_type": "code",
   "execution_count": 59,
   "id": "4611d4f7-7b88-44e2-880e-80aec5192638",
   "metadata": {},
   "outputs": [
    {
     "data": {
      "text/plain": [
       "Country\n",
       "CHINA P RP     896605.02\n",
       "U ARAB EMTS    442214.43\n",
       "U S A          438655.55\n",
       "SAUDI ARAB     399827.82\n",
       "SWITZERLAND    343073.68\n",
       "IRAQ           240066.39\n",
       "GERMANY        227386.06\n",
       "KOREA RP       213042.77\n",
       "INDONESIA      211316.59\n",
       "AUSTRALIA      198946.88\n",
       "Name: Import, dtype: float64"
      ]
     },
     "execution_count": 59,
     "metadata": {},
     "output_type": "execute_result"
    }
   ],
   "source": [
    "top_10_importing_countries=df.groupby('Country')['Import'].sum().nlargest(10)\n",
    "top_10_importing_countries"
   ]
  },
  {
   "cell_type": "code",
   "execution_count": 60,
   "id": "17653212-d835-46ca-86cc-2bd18a5faa8f",
   "metadata": {},
   "outputs": [
    {
     "data": {
      "image/png": "[encoded data removed]",
      "text/plain": [
       "<Figure size 700x400 with 1 Axes>"
      ]
     },
     "metadata": {},
     "output_type": "display_data"
    }
   ],
   "source": [
    "top_10_importing_countries.plot(kind='bar',color='orange',figsize=(7,4))\n",
    "plt.title('top_10_importing_countries of India')\n",
    "plt.xlabel('Country')\n",
    "plt.ylabel('Import_Value ')\n",
    "plt.show()"
   ]
  },
  {
   "cell_type": "markdown",
   "id": "e26f433a-d529-4f6e-9027-4e86aa1bd884",
   "metadata": {},
   "source": [
    "# Highest_Traded_Countries"
   ]
  },
  {
   "cell_type": "code",
   "execution_count": 63,
   "id": "4948fa17-c3a4-450f-b097-1bc6e953c0a1",
   "metadata": {},
   "outputs": [
    {
     "data": {
      "text/plain": [
       "Country\n",
       "U S A          1154024.82\n",
       "CHINA P RP     1138403.04\n",
       "U ARAB EMTS     916338.82\n",
       "Name: Total Trade, dtype: float64"
      ]
     },
     "execution_count": 63,
     "metadata": {},
     "output_type": "execute_result"
    }
   ],
   "source": [
    "highest_taded_country=df.groupby(\"Country\")['Total Trade'].sum().nlargest(3)\n",
    "highest_taded_country"
   ]
  },
  {
   "cell_type": "code",
   "execution_count": 80,
   "id": "0bacb143-26d6-40e2-a5f4-2282543e1a60",
   "metadata": {},
   "outputs": [
    {
     "data": {
      "image/png": "[encoded data removed]",
      "text/plain": [
       "<Figure size 640x480 with 1 Axes>"
      ]
     },
     "metadata": {},
     "output_type": "display_data"
    }
   ],
   "source": [
    "# top_10_importing_countries.plot(kind='bar',color='orange',figsize=(6,4))\n",
    "plt.pie(highest_taded_country,labels=highest_taded_country.index,autopct='%1.1f%%')\n",
    "plt.title('highest_traded_countries')\n",
    "plt.figsize=(4,4)\n",
    "plt.show()"
   ]
  },
  {
   "cell_type": "markdown",
   "id": "08eb7f2b-7efb-4b60-9b6d-873557371355",
   "metadata": {
    "jp-MarkdownHeadingCollapsed": true
   },
   "source": [
    "# Least_Traded_Countries"
   ]
  },
  {
   "cell_type": "code",
   "execution_count": 70,
   "id": "64a925f9-bba3-4df6-a167-695b03b63957",
   "metadata": {},
   "outputs": [
    {
     "data": {
      "text/plain": [
       "Country\n",
       "GUERNSEY           0.27\n",
       "HEARD MACDONALD    0.31\n",
       "NIUE IS            0.66\n",
       "Name: Total Trade, dtype: float64"
      ]
     },
     "execution_count": 70,
     "metadata": {},
     "output_type": "execute_result"
    }
   ],
   "source": [
    "least_taded_country=df.groupby(\"Country\")['Total Trade'].sum().nsmallest(3)\n",
    "least_taded_country"
   ]
  },
  {
   "cell_type": "code",
   "execution_count": 87,
   "id": "e306928d-34bb-4e46-926c-9e288c6aed46",
   "metadata": {},
   "outputs": [
    {
     "data": {
      "image/png": "[encoded data removed]",
      "text/plain": [
       "<Figure size 640x480 with 1 Axes>"
      ]
     },
     "metadata": {},
     "output_type": "display_data"
    }
   ],
   "source": [
    "plt.pie(least_taded_country,labels=least_taded_country.index,autopct='%1.1f%%',colors=['lightgreen','orange','grey'],wedgeprops=dict(width=0.6))\n",
    "plt.title('Least_traded_countries')\n",
    "plt.figsize=(3,4)\n",
    "plt.show()"
   ]
  },
  {
   "cell_type": "code",
   "execution_count": 94,
   "id": "938516a1-65ec-44b3-aa1b-74e7795f2bfd",
   "metadata": {},
   "outputs": [
    {
     "data": {
      "text/plain": [
       "0            NaN\n",
       "2       1.151659\n",
       "4       0.301762\n",
       "5       1.431810\n",
       "6       1.460618\n",
       "          ...   \n",
       "5988    0.000075\n",
       "5989    0.000129\n",
       "5990    0.000110\n",
       "5991    0.000127\n",
       "5992    0.000143\n",
       "Name: Trade Balance, Length: 3360, dtype: float64"
      ]
     },
     "execution_count": 94,
     "metadata": {},
     "output_type": "execute_result"
    }
   ],
   "source": [
    "positive=df[df['Trade Balance']>0]['Trade Balance']\n",
    "cumsumm=positive.cumsum()\n",
    "gr=cumsumm.pct_change()\n",
    "gr"
   ]
  },
  {
   "cell_type": "code",
   "execution_count": 97,
   "id": "0696892d-d7e1-471a-831c-8e03faff3182",
   "metadata": {},
   "outputs": [
    {
     "data": {
      "text/plain": [
       "Text(0, 0.5, 'Growth Rate')"
      ]
     },
     "execution_count": 97,
     "metadata": {},
     "output_type": "execute_result"
    },
    {
     "data": {
      "image/png": "[encoded data removed]",
      "text/plain": [
       "<Figure size 1200x400 with 1 Axes>"
      ]
     },
     "metadata": {},
     "output_type": "display_data"
    }
   ],
   "source": [
    "gr.plot(kind='line',figsize=(12,4))\n",
    "# plt.figure(figsize=(10,6))\n",
    "plt.title(\"India's growth rate\")\n",
    "plt.xlabel('Year')\n",
    "plt.ylabel('Growth Rate')"
   ]
  },
  {
   "cell_type": "markdown",
   "id": "8b25244d-c955-41ac-b56e-4a312c0fb4da",
   "metadata": {},
   "source": [
    "# countries to which india export more product than import"
   ]
  },
  {
   "cell_type": "code",
   "execution_count": 99,
   "id": "ec62d9c3-bef0-4cad-a4d0-8341b97c69d8",
   "metadata": {},
   "outputs": [
    {
     "data": {
      "text/plain": [
       "Country\n",
       "U S A            276713.74\n",
       "BANGLADESH PR     97569.52\n",
       "NETHERLAND        78760.72\n",
       "Name: Trade Balance, dtype: float64"
      ]
     },
     "execution_count": 99,
     "metadata": {},
     "output_type": "execute_result"
    }
   ],
   "source": [
    "morexpo=df.groupby(\"Country\")[\"Trade Balance\"].sum().nlargest(3)\n",
    "morexpo"
   ]
  },
  {
   "cell_type": "code",
   "execution_count": 100,
   "id": "549ca1d2-5f6b-45ea-9b05-6c680ace88b7",
   "metadata": {},
   "outputs": [
    {
     "data": {
      "image/png": "[encoded data removed]",
      "text/plain": [
       "<Figure size 700x400 with 1 Axes>"
      ]
     },
     "metadata": {},
     "output_type": "display_data"
    }
   ],
   "source": [
    "morexpo.plot(kind='bar',color=['green','blue','orange'],figsize=(7,4))\n",
    "plt.title(' Indian export is more than import ')\n",
    "plt.xlabel('Country')\n",
    "plt.ylabel('Value ')\n",
    "plt.show()"
   ]
  },
  {
   "cell_type": "code",
   "execution_count": null,
   "id": "0dd0052b-e186-4ad8-82e9-5c8d568a8a52",
   "metadata": {},
   "outputs": [],
   "source": []
  }
 ],
 "metadata": {
  "kernelspec": {
   "display_name": "Python 3 (ipykernel)",
   "language": "python",
   "name": "python3"
  },
  "language_info": {
   "codemirror_mode": {
    "name": "ipython",
    "version": 3
   },
   "file_extension": ".py",
   "mimetype": "text/x-python",
   "name": "python",
   "nbconvert_exporter": "python",
   "pygments_lexer": "ipython3",
   "version": "3.13.0"
  }
 },
 "nbformat": 4,
 "nbformat_minor": 5
}
